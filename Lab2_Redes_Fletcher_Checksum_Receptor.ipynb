{
  "nbformat": 4,
  "nbformat_minor": 0,
  "metadata": {
    "colab": {
      "provenance": []
    },
    "kernelspec": {
      "name": "python3",
      "display_name": "Python 3"
    },
    "language_info": {
      "name": "python"
    }
  },
  "cells": [
    {
      "cell_type": "code",
      "execution_count": null,
      "metadata": {
        "id": "aRPxt_SP-Y3s"
      },
      "outputs": [],
      "source": [
        "def main():\n",
        "\n",
        "    print(\"Ingrese el mensaje (trama + checksum de 16 bits):\")\n",
        "    mensaje = input().strip()\n",
        "\n",
        "    if len(mensaje) < 16:\n",
        "        print(\"Error: El mensaje es demasiado corto\")\n",
        "        return\n",
        "\n",
        "    #Separar trama y checksum\n",
        "    trama = mensaje[:-16]\n",
        "    checksum_recibido = mensaje[-16:]\n",
        "\n",
        "    #Calcular checksum esperado\n",
        "    sum1, sum2 = calcular_checksum(trama)\n",
        "\n",
        "    #Comparar checksums\n",
        "    checksum_calculado = f\"{sum1:08b}{sum2:08b}\"\n",
        "\n",
        "    if checksum_recibido == checksum_calculado:\n",
        "        print(\"No se detectaron errores\")\n",
        "        print(\"Trama original:\", trama)\n",
        "    else:\n",
        "        print(\"Se detectaron errores - Mensaje descartado\")\n",
        "\n",
        "\n",
        "def calcular_checksum(trama):\n",
        "    sum1 = 0\n",
        "    sum2 = 0\n",
        "\n",
        "    # Añadir padding solo si es necesario\n",
        "    padding_length = (8 - (len(trama) % 8)) % 8\n",
        "    trama_padded = trama + '0' * padding_length\n",
        "\n",
        "    # Procesar cada byte (8 bits)\n",
        "    for i in range(0, len(trama_padded), 8):\n",
        "        bloque = trama_padded[i:i+8]\n",
        "        valor = int(bloque, 2)\n",
        "\n",
        "        sum1 = (sum1 + valor) % 255\n",
        "        sum2 = (sum2 + sum1) % 255\n",
        "\n",
        "    return sum1, sum2\n",
        "\n",
        "if __name__ == \"__main__\":\n",
        "    main()"
      ]
    }
  ]
}